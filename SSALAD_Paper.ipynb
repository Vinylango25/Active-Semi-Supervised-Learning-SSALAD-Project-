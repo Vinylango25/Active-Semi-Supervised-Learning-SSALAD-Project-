{
 "cells": [
  {
   "cell_type": "markdown",
   "metadata": {
    "id": "ryYrZhLwi79N"
   },
   "source": [
    "# Introduction"
   ]
  },
  {
   "cell_type": "markdown",
   "metadata": {
    "id": "uACQ6-tIi_UA"
   },
   "source": [
    "Unsupervised models excel at identifying statistical outliers within a dataset. This works well as these models are sensitive to instances which deviate from the global norm. For anomaly detection this might not be enough. In domain-specific scenarios, anomalies within a dataset might be self-similar and could even exist within well-populated local neighborhoods. Consequently, an unsupervised model might overlook these instances in favor of those which stand-out. For example, a model might flag a single 100 million USD transaction if the dataset average is 25 million USD per transaction. Picking such an instance as an anomaly is easy but useless to a forensic accountant who might be more interested in a dozen 5 million USD transactions done by six different accounts within minutes of each other."
   ]
  },
  {
   "cell_type": "markdown",
   "metadata": {
    "id": "MwbigpjqD_cn"
   },
   "source": [
    "Due to the inflexibility of these models, semi-supervised models have become the norm in anomaly detection. Semi-supervised models combine the strengths of supervised and unsupervised learning. Supervised learning models tend to be highly accurate and effective due to the presence of labels during training. The performance of these models is also easier to measure as true labels can be compared to predicted labels. Unsupervised learning eliminates the need for labels while still producing robust models. This is great for anomaly detection as these models can identify inherent patterns within a dataset e.g., by creating clusters or by using tree-based tactics which can pick out anomalous instances. However, as noted before, these unsupervised models don't always do well when faced with domain-specific anomalies."
   ]
  },
  {
   "cell_type": "markdown",
   "metadata": {
    "id": "7KwpbxfAGS_p"
   },
   "source": [
    "Semi-supervised models, unlike supervised models which demand an entire dataset be labelled, can improve performance even when trained on very few labels. Moreover, unlike unsupervised models whose predicted labels/clusters might not reflect the real-world, these models can identify domain-specific anomalies because they have labels to reference (regardless of how few these might). While labels might be expensive to acquire, the improved performance of these models on anomaly detection tasks has fueled their popularity."
   ]
  },
  {
   "cell_type": "markdown",
   "metadata": {
    "id": "0F9lgIsVKVEm"
   },
   "source": [
    "This popularity is partly due to label propagation, a cornerstone semi-supervised algorithm, which has made it possible to train highly accurate models on sparsely-labelled datasets. Label propagation diffuses a few labels to all unlabeled instances within the dataset. This can be achieved due to the assumption that an instance label is also the label of the community/neighborhood that the instance belongs to. Therefore, if an instance is labeled as fraudulent its closest neighbors should also be fraudulent. In an iterative process, label propagation can start with a 5% labeled dataset and generate pseudo-labels fro the rest of the dataset."
   ]
  },
  {
   "cell_type": "markdown",
   "metadata": {
    "id": "HKvvVWBgYkp2"
   },
   "source": [
    "While label propagation might be effective, its performance is dependent on the accuracy and timeliness of the existing labels. The temptation to use labeled legacy data is high especially for organizations that want to achieve quick results. However, this leads to models that are outdated on launch. This is where active learning comes in. Active learning queries users for instance labels on a regular basis. This ensures that the labels are timely and that the models can evolve even when the definition of what is anomalous within a domain changes."
   ]
  },
  {
   "cell_type": "markdown",
   "metadata": {
    "id": "7ok0-COvZOLG"
   },
   "source": [
    "In this paper we propose an approach, called Semi-supervised Active Learning Anomaly Detection (SSALAD), which implements a variety of querying techniques to acquire labels from users in order to build a robust anomaly detection model. By taking advantage of active learning, SSALAD ensures that the model will still perform well even when domain-specific anomalies evolve."
   ]
  },
  {
   "cell_type": "markdown",
   "metadata": {
    "id": "qegk6Wr0dVdU"
   },
   "source": [
    "# Methodology - SSALAD"
   ]
  },
  {
   "cell_type": "markdown",
   "metadata": {
    "id": "0Rr-dwiVdaxQ"
   },
   "source": [
    "## Querying Techniques"
   ]
  },
  {
   "cell_type": "markdown",
   "metadata": {
    "id": "cAi7PunNccZQ"
   },
   "source": [
    "There are four querying techniques which SSALAD implements: random, uncertainty, anomalous, and medoid querying. The use of the SSAD model gets to choose one of them during the model training process."
   ]
  },
  {
   "cell_type": "markdown",
   "metadata": {
    "id": "ugWE2iWRf8u5"
   },
   "source": [
    "### Random querying"
   ]
  },
  {
   "cell_type": "markdown",
   "metadata": {
    "id": "fV-mKA_pf-fx"
   },
   "source": [
    "Random querying uses simple random sampling (SRS) to present users with instances to label. Its main advantage is that it's unbiased and any instance within the dataset can be presented for labeling. This means that the user will help the model in identifying both inliers and outliers within the dataset."
   ]
  },
  {
   "cell_type": "markdown",
   "metadata": {
    "id": "qOP2ArOlZtZt"
   },
   "source": [
    "<div>\n",
    "<img src=\"https://media.geeksforgeeks.org/wp-content/uploads/20231110115024/Simple-Random-Sampling.png\" height=\"400\"/>\n",
    "</div>"
   ]
  },
  {
   "cell_type": "markdown",
   "metadata": {
    "id": "iprqfPsAgTOZ"
   },
   "source": [
    "### Uncertainty querying"
   ]
  },
  {
   "cell_type": "markdown",
   "metadata": {
    "id": "p0ipwcHkgU_e"
   },
   "source": [
    "This querying technique presents the most uncertain instances for the user to label. The uncertainty is based on the prediction confidence of the SSALAD model. The lower the confidence the more likely we will present the instance to the user for labelling."
   ]
  },
  {
   "cell_type": "markdown",
   "metadata": {
    "id": "M75CSvW5bUnq"
   },
   "source": [
    "<div>\n",
    "<img src=\"https://analystprep.com/cfa-level-1-exam/wp-content/uploads/2019/10/page-159.jpg\" height=\"400\"/>\n",
    "</div>"
   ]
  },
  {
   "cell_type": "markdown",
   "metadata": {
    "id": "yVRlMgSjgyQd"
   },
   "source": [
    "### Anomalous querying"
   ]
  },
  {
   "cell_type": "markdown",
   "metadata": {
    "id": "J4Lkmgp0g0vw"
   },
   "source": [
    "The SSALAD model generates anomaly scores for each instance. The bigger the score the more anomalous the instance. In this case, we have a choice of presenting the user with the instances that have the highest or lowest anomaly scores."
   ]
  },
  {
   "cell_type": "markdown",
   "metadata": {
    "id": "Gqomt74McF3i"
   },
   "source": [
    "<div>\n",
    "<img src=\"https://dataheroes.ai/wp-content/uploads/2023/05/post-2457-1.png\"/>\n",
    "</div>"
   ]
  },
  {
   "cell_type": "markdown",
   "metadata": {
    "id": "Y0WQlfcOhKRk"
   },
   "source": [
    "### Medoid querying"
   ]
  },
  {
   "cell_type": "markdown",
   "metadata": {
    "id": "dXHeDVD-hSTK"
   },
   "source": [
    "Medoid querying uses clustering to determine the medoid of each neighborhood/community. The medoid is the most representative instance within that community. Presenting the user with a medoid, allows us to get a label that accurately describes the entirety of its neighborhood."
   ]
  },
  {
   "cell_type": "markdown",
   "metadata": {
    "id": "HPoaNUc8bpyr"
   },
   "source": [
    "<div>\n",
    "<img src=\"https://upload.wikimedia.org/wikipedia/commons/8/81/CarMedoidExample.png\" height=\"300\"/>\n",
    "</div>"
   ]
  },
  {
   "cell_type": "markdown",
   "metadata": {
    "id": "THKsDA6Kcexj"
   },
   "source": [
    "## Label Propagation"
   ]
  },
  {
   "cell_type": "markdown",
   "metadata": {
    "id": "nBIm1jcacrUH"
   },
   "source": [
    "Querying labels for 100% of the instances within a dataset is quite expensive. This is why once a few labels have been queried we carry out label propagation. Using label propagation we diffuse the collected labels to the rest of the dataset. The result will be a dataset whose instances are identified to be either outliers or inliers."
   ]
  },
  {
   "cell_type": "markdown",
   "metadata": {
    "id": "56jQlhURcgN2"
   },
   "source": [
    "<div>\n",
    "<img src=\"https://dist.neo4j.com/wp-content/uploads/20190226091707/label-propagation-graph-algorithm-1.png\"/>\n",
    "</div>"
   ]
  },
  {
   "cell_type": "markdown",
   "metadata": {
    "id": "fiNYrQmNfu0E"
   },
   "source": [
    "## Model Training"
   ]
  },
  {
   "cell_type": "markdown",
   "metadata": {
    "id": "2iUnntSwhRhQ"
   },
   "source": [
    "A unique feature of SSALAD is how the model is trained. Instead of using the labelled dataset, created through label propagation, to train a supervised classified, we train the mode only on inliers. This is achieved by dropping all outlier instances from the labeled dataset. The resultant model will be quite sensitive to outliers and will generally outperform models which were trained with the full dataset."
   ]
  },
  {
   "cell_type": "markdown",
   "metadata": {
    "id": "0dT7dPUTcwuw"
   },
   "source": [
    "## Continuous Active Learning"
   ]
  },
  {
   "cell_type": "markdown",
   "metadata": {
    "id": "Q184S0j8c5de"
   },
   "source": [
    "The model training described above greatly improves when coupled with active learning. When users are constantly queried for labels, the SSALAD model can pick up on changes in the distribution of the data. Therefore, if the inliers or outliers change neighborhoods, or if new neighborhoods are created, the model will still be able to detect anomalous instances."
   ]
  },
  {
   "cell_type": "markdown",
   "metadata": {
    "id": "1v9ZMUaXc6eq"
   },
   "source": [
    "<div>\n",
    "<img src=\"https://www.cloudfactory.com/hs-fs/hubfs/04-blog-img/Scalable-Active-Learning-for-Autonomous-Driving.png?width=2130&name=Scalable-Active-Learning-for-Autonomous-Driving.png\" height=\"400\"/>\n",
    "</div>"
   ]
  },
  {
   "cell_type": "markdown",
   "metadata": {
    "id": "1p8XRRWjdW0S"
   },
   "source": [
    "# Experiment Results"
   ]
  },
  {
   "cell_type": "markdown",
   "metadata": {
    "id": "R5yMw882ztGW"
   },
   "source": [
    "After the experiments have been run we end up with results that look like this:"
   ]
  },
  {
   "cell_type": "code",
   "execution_count": 41,
   "metadata": {
    "id": "nAsftjTWV_zz"
   },
   "outputs": [],
   "source": [
    "import pandas as pd\n",
    "from utils.result_plotter import plot_ssalad_results"
   ]
  },
  {
   "cell_type": "code",
   "execution_count": 43,
   "metadata": {
    "colab": {
     "base_uri": "https://localhost:8080/",
     "height": 206
    },
    "id": "HMqo3Tepxj_o",
    "outputId": "60348470-f1a4-4b23-8222-0eee4cc90b38"
   },
   "outputs": [
    {
     "data": {
      "text/html": [
       "<div>\n",
       "<style scoped>\n",
       "    .dataframe tbody tr th:only-of-type {\n",
       "        vertical-align: middle;\n",
       "    }\n",
       "\n",
       "    .dataframe tbody tr th {\n",
       "        vertical-align: top;\n",
       "    }\n",
       "\n",
       "    .dataframe thead th {\n",
       "        text-align: right;\n",
       "    }\n",
       "</style>\n",
       "<table border=\"1\" class=\"dataframe\">\n",
       "  <thead>\n",
       "    <tr style=\"text-align: right;\">\n",
       "      <th></th>\n",
       "      <th>dataset</th>\n",
       "      <th>num_samples</th>\n",
       "      <th>model</th>\n",
       "      <th>fraction</th>\n",
       "      <th>rep</th>\n",
       "      <th>query_strategy</th>\n",
       "      <th>propagation</th>\n",
       "      <th>roc_auc</th>\n",
       "    </tr>\n",
       "  </thead>\n",
       "  <tbody>\n",
       "    <tr>\n",
       "      <th>0</th>\n",
       "      <td>1_ALOI</td>\n",
       "      <td>500</td>\n",
       "      <td>KNN</td>\n",
       "      <td>0.0</td>\n",
       "      <td>0</td>\n",
       "      <td>random</td>\n",
       "      <td>True</td>\n",
       "      <td>0.473814</td>\n",
       "    </tr>\n",
       "    <tr>\n",
       "      <th>1</th>\n",
       "      <td>1_ALOI</td>\n",
       "      <td>500</td>\n",
       "      <td>KNN</td>\n",
       "      <td>0.0</td>\n",
       "      <td>1</td>\n",
       "      <td>random</td>\n",
       "      <td>True</td>\n",
       "      <td>0.593127</td>\n",
       "    </tr>\n",
       "    <tr>\n",
       "      <th>2</th>\n",
       "      <td>1_ALOI</td>\n",
       "      <td>500</td>\n",
       "      <td>KNN</td>\n",
       "      <td>0.0</td>\n",
       "      <td>2</td>\n",
       "      <td>random</td>\n",
       "      <td>True</td>\n",
       "      <td>0.448660</td>\n",
       "    </tr>\n",
       "    <tr>\n",
       "      <th>3</th>\n",
       "      <td>1_ALOI</td>\n",
       "      <td>500</td>\n",
       "      <td>KNN</td>\n",
       "      <td>0.0</td>\n",
       "      <td>3</td>\n",
       "      <td>random</td>\n",
       "      <td>True</td>\n",
       "      <td>0.415533</td>\n",
       "    </tr>\n",
       "    <tr>\n",
       "      <th>4</th>\n",
       "      <td>1_ALOI</td>\n",
       "      <td>500</td>\n",
       "      <td>KNN</td>\n",
       "      <td>0.0</td>\n",
       "      <td>4</td>\n",
       "      <td>random</td>\n",
       "      <td>True</td>\n",
       "      <td>0.542405</td>\n",
       "    </tr>\n",
       "  </tbody>\n",
       "</table>\n",
       "</div>"
      ],
      "text/plain": [
       "  dataset  num_samples model  fraction  rep query_strategy  propagation  \\\n",
       "0  1_ALOI          500   KNN       0.0    0         random         True   \n",
       "1  1_ALOI          500   KNN       0.0    1         random         True   \n",
       "2  1_ALOI          500   KNN       0.0    2         random         True   \n",
       "3  1_ALOI          500   KNN       0.0    3         random         True   \n",
       "4  1_ALOI          500   KNN       0.0    4         random         True   \n",
       "\n",
       "    roc_auc  \n",
       "0  0.473814  \n",
       "1  0.593127  \n",
       "2  0.448660  \n",
       "3  0.415533  \n",
       "4  0.542405  "
      ]
     },
     "execution_count": 43,
     "metadata": {},
     "output_type": "execute_result"
    }
   ],
   "source": [
    "results = pd.read_csv('first_run_csv')\n",
    "results.head()"
   ]
  },
  {
   "cell_type": "markdown",
   "metadata": {
    "id": "dPyA3nz-dbdo"
   },
   "source": [
    "With these results we can answer important questions about the performance of semi-supervised models and moreover, we can determine how much the performance improves if you were to select a specific querying strategy."
   ]
  },
  {
   "cell_type": "code",
   "execution_count": 46,
   "metadata": {
    "id": "JSiGKDn-Wp0f"
   },
   "outputs": [],
   "source": [
    "datasets = ['1_ALOI',\n",
    " '2_annthyroid',\n",
    " '3_backdoor',\n",
    " '4_breastw',\n",
    " '5_campaign',\n",
    " '6_cardio',\n",
    " '7_Cardiotocography',\n",
    " '8_celeba',\n",
    " '9_census',\n",
    " '10_cover',\n",
    " '12_fault',\n",
    " '11_donors',\n",
    " '14_glass',\n",
    " '13_fraud',\n",
    " '15_Hepatitis',\n",
    " '16_http',\n",
    " '17_InternetAds',\n",
    " '18_Ionosphere',\n",
    " '19_landsat',\n",
    " '20_letter',\n",
    " '21_Lymphography',\n",
    " '22_magic.gamma',\n",
    " '23_mammography',\n",
    " '24_mnist',\n",
    " '25_musk',\n",
    " '26_optdigits',\n",
    " '27_PageBlocks',\n",
    " '28_pendigits',\n",
    " '29_Pima',\n",
    " '30_satellite',\n",
    " '31_satimage-2',\n",
    " '32_shuttle',\n",
    " '33_skin',\n",
    " '34_smtp',\n",
    " '35_SpamBase',\n",
    " '36_speech',\n",
    " '37_Stamps',\n",
    " '38_thyroid',\n",
    " '39_vertebral',\n",
    " '40_vowels',\n",
    " '41_Waveform',\n",
    " '42_WBC',\n",
    " '43_WDBC',\n",
    " '44_Wilt',\n",
    " '45_wine',\n",
    " '46_WPBC',\n",
    " '47_yeast']"
   ]
  },
  {
   "cell_type": "code",
   "execution_count": 48,
   "metadata": {
    "colab": {
     "base_uri": "https://localhost:8080/",
     "height": 1000
    },
    "id": "p5ZoxndaWuTv",
    "outputId": "e38c10e3-7ba8-4c8c-c530-595b35f95824"
   },
   "outputs": [
    {
     "ename": "KeyError",
     "evalue": "'kernel'",
     "output_type": "error",
     "traceback": [
      "\u001b[0;31m---------------------------------------------------------------------------\u001b[0m",
      "\u001b[0;31mKeyError\u001b[0m                                  Traceback (most recent call last)",
      "File \u001b[0;32m/opt/anaconda3/lib/python3.12/site-packages/pandas/core/indexes/base.py:3805\u001b[0m, in \u001b[0;36mIndex.get_loc\u001b[0;34m(self, key)\u001b[0m\n\u001b[1;32m   3804\u001b[0m \u001b[38;5;28;01mtry\u001b[39;00m:\n\u001b[0;32m-> 3805\u001b[0m     \u001b[38;5;28;01mreturn\u001b[39;00m \u001b[38;5;28mself\u001b[39m\u001b[38;5;241m.\u001b[39m_engine\u001b[38;5;241m.\u001b[39mget_loc(casted_key)\n\u001b[1;32m   3806\u001b[0m \u001b[38;5;28;01mexcept\u001b[39;00m \u001b[38;5;167;01mKeyError\u001b[39;00m \u001b[38;5;28;01mas\u001b[39;00m err:\n",
      "File \u001b[0;32mindex.pyx:167\u001b[0m, in \u001b[0;36mpandas._libs.index.IndexEngine.get_loc\u001b[0;34m()\u001b[0m\n",
      "File \u001b[0;32mindex.pyx:196\u001b[0m, in \u001b[0;36mpandas._libs.index.IndexEngine.get_loc\u001b[0;34m()\u001b[0m\n",
      "File \u001b[0;32mpandas/_libs/hashtable_class_helper.pxi:7081\u001b[0m, in \u001b[0;36mpandas._libs.hashtable.PyObjectHashTable.get_item\u001b[0;34m()\u001b[0m\n",
      "File \u001b[0;32mpandas/_libs/hashtable_class_helper.pxi:7089\u001b[0m, in \u001b[0;36mpandas._libs.hashtable.PyObjectHashTable.get_item\u001b[0;34m()\u001b[0m\n",
      "\u001b[0;31mKeyError\u001b[0m: 'kernel'",
      "\nThe above exception was the direct cause of the following exception:\n",
      "\u001b[0;31mKeyError\u001b[0m                                  Traceback (most recent call last)",
      "Cell \u001b[0;32mIn[48], line 4\u001b[0m\n\u001b[1;32m      2\u001b[0m warnings\u001b[38;5;241m.\u001b[39mfilterwarnings(\u001b[38;5;124m'\u001b[39m\u001b[38;5;124mignore\u001b[39m\u001b[38;5;124m'\u001b[39m)\n\u001b[1;32m      3\u001b[0m \u001b[38;5;28;01mfor\u001b[39;00m dataset \u001b[38;5;129;01min\u001b[39;00m datasets:\n\u001b[0;32m----> 4\u001b[0m   plot_ssalad_results(results,dataset,\u001b[38;5;124m\"\u001b[39m\u001b[38;5;124mIForest\u001b[39m\u001b[38;5;124m\"\u001b[39m)\n",
      "File \u001b[0;32m~/Desktop/ssalad/jupyter/utils/result_plotter.py:104\u001b[0m, in \u001b[0;36mplot_ssalad_results\u001b[0;34m(results_df, results_path, log_scale)\u001b[0m\n\u001b[1;32m    102\u001b[0m num_samps \u001b[38;5;241m=\u001b[39m dataset_results[\u001b[38;5;124m'\u001b[39m\u001b[38;5;124mnum_samples\u001b[39m\u001b[38;5;124m'\u001b[39m]\u001b[38;5;241m.\u001b[39munique()[\u001b[38;5;241m0\u001b[39m]\n\u001b[1;32m    103\u001b[0m mod_name \u001b[38;5;241m=\u001b[39m dataset_results[\u001b[38;5;124m'\u001b[39m\u001b[38;5;124mmodel\u001b[39m\u001b[38;5;124m'\u001b[39m]\u001b[38;5;241m.\u001b[39munique()[\u001b[38;5;241m0\u001b[39m]\n\u001b[0;32m--> 104\u001b[0m current_kernel \u001b[38;5;241m=\u001b[39m dataset_results[\u001b[38;5;124m'\u001b[39m\u001b[38;5;124mkernel\u001b[39m\u001b[38;5;124m'\u001b[39m]\u001b[38;5;241m.\u001b[39munique()[\u001b[38;5;241m0\u001b[39m]\n\u001b[1;32m    105\u001b[0m ax2\u001b[38;5;241m.\u001b[39mset_title(\u001b[38;5;124mf\u001b[39m\u001b[38;5;124m'\u001b[39m\u001b[38;5;132;01m{\u001b[39;00mmod_name\u001b[38;5;132;01m}\u001b[39;00m\u001b[38;5;124m on \u001b[39m\u001b[38;5;132;01m{\u001b[39;00mdataset_name\u001b[38;5;132;01m}\u001b[39;00m\u001b[38;5;124m, \u001b[39m\u001b[38;5;132;01m{\u001b[39;00mnum_samps\u001b[38;5;132;01m}\u001b[39;00m\u001b[38;5;124m samples\u001b[39m\u001b[38;5;124m'\u001b[39m)\n\u001b[1;32m    106\u001b[0m \u001b[38;5;28;01mif\u001b[39;00m \u001b[38;5;129;01mnot\u001b[39;00m split_axis:\n",
      "File \u001b[0;32m/opt/anaconda3/lib/python3.12/site-packages/pandas/core/frame.py:4102\u001b[0m, in \u001b[0;36mDataFrame.__getitem__\u001b[0;34m(self, key)\u001b[0m\n\u001b[1;32m   4100\u001b[0m \u001b[38;5;28;01mif\u001b[39;00m \u001b[38;5;28mself\u001b[39m\u001b[38;5;241m.\u001b[39mcolumns\u001b[38;5;241m.\u001b[39mnlevels \u001b[38;5;241m>\u001b[39m \u001b[38;5;241m1\u001b[39m:\n\u001b[1;32m   4101\u001b[0m     \u001b[38;5;28;01mreturn\u001b[39;00m \u001b[38;5;28mself\u001b[39m\u001b[38;5;241m.\u001b[39m_getitem_multilevel(key)\n\u001b[0;32m-> 4102\u001b[0m indexer \u001b[38;5;241m=\u001b[39m \u001b[38;5;28mself\u001b[39m\u001b[38;5;241m.\u001b[39mcolumns\u001b[38;5;241m.\u001b[39mget_loc(key)\n\u001b[1;32m   4103\u001b[0m \u001b[38;5;28;01mif\u001b[39;00m is_integer(indexer):\n\u001b[1;32m   4104\u001b[0m     indexer \u001b[38;5;241m=\u001b[39m [indexer]\n",
      "File \u001b[0;32m/opt/anaconda3/lib/python3.12/site-packages/pandas/core/indexes/base.py:3812\u001b[0m, in \u001b[0;36mIndex.get_loc\u001b[0;34m(self, key)\u001b[0m\n\u001b[1;32m   3807\u001b[0m     \u001b[38;5;28;01mif\u001b[39;00m \u001b[38;5;28misinstance\u001b[39m(casted_key, \u001b[38;5;28mslice\u001b[39m) \u001b[38;5;129;01mor\u001b[39;00m (\n\u001b[1;32m   3808\u001b[0m         \u001b[38;5;28misinstance\u001b[39m(casted_key, abc\u001b[38;5;241m.\u001b[39mIterable)\n\u001b[1;32m   3809\u001b[0m         \u001b[38;5;129;01mand\u001b[39;00m \u001b[38;5;28many\u001b[39m(\u001b[38;5;28misinstance\u001b[39m(x, \u001b[38;5;28mslice\u001b[39m) \u001b[38;5;28;01mfor\u001b[39;00m x \u001b[38;5;129;01min\u001b[39;00m casted_key)\n\u001b[1;32m   3810\u001b[0m     ):\n\u001b[1;32m   3811\u001b[0m         \u001b[38;5;28;01mraise\u001b[39;00m InvalidIndexError(key)\n\u001b[0;32m-> 3812\u001b[0m     \u001b[38;5;28;01mraise\u001b[39;00m \u001b[38;5;167;01mKeyError\u001b[39;00m(key) \u001b[38;5;28;01mfrom\u001b[39;00m \u001b[38;5;21;01merr\u001b[39;00m\n\u001b[1;32m   3813\u001b[0m \u001b[38;5;28;01mexcept\u001b[39;00m \u001b[38;5;167;01mTypeError\u001b[39;00m:\n\u001b[1;32m   3814\u001b[0m     \u001b[38;5;66;03m# If we have a listlike key, _check_indexing_error will raise\u001b[39;00m\n\u001b[1;32m   3815\u001b[0m     \u001b[38;5;66;03m#  InvalidIndexError. Otherwise we fall through and re-raise\u001b[39;00m\n\u001b[1;32m   3816\u001b[0m     \u001b[38;5;66;03m#  the TypeError.\u001b[39;00m\n\u001b[1;32m   3817\u001b[0m     \u001b[38;5;28mself\u001b[39m\u001b[38;5;241m.\u001b[39m_check_indexing_error(key)\n",
      "\u001b[0;31mKeyError\u001b[0m: 'kernel'"
     ]
    },
    {
     "data": {
      "image/png": "[encoded data removed]",
      "text/plain": [
       "<Figure size 800x300 with 2 Axes>"
      ]
     },
     "metadata": {},
     "output_type": "display_data"
    }
   ],
   "source": [
    "import warnings\n",
    "warnings.filterwarnings('ignore')\n",
    "for dataset in datasets:\n",
    "  plot_ssalad_results(results,dataset,\"IForest\")"
   ]
  },
  {
   "cell_type": "markdown",
   "metadata": {
    "id": "LDrBjV0KWbB3"
   },
   "source": []
  },
  {
   "cell_type": "markdown",
   "metadata": {
    "id": "at8FxVX3npSg"
   },
   "source": [
    "#References"
   ]
  },
  {
   "cell_type": "markdown",
   "metadata": {
    "id": "EeAtPXx5nrjI"
   },
   "source": []
  }
 ],
 "metadata": {
  "colab": {
   "provenance": []
  },
  "kernelspec": {
   "display_name": "Python [conda env:base] *",
   "language": "python",
   "name": "conda-base-py"
  },
  "language_info": {
   "codemirror_mode": {
    "name": "ipython",
    "version": 3
   },
   "file_extension": ".py",
   "mimetype": "text/x-python",
   "name": "python",
   "nbconvert_exporter": "python",
   "pygments_lexer": "ipython3",
   "version": "3.12.7"
  }
 },
 "nbformat": 4,
 "nbformat_minor": 4
}
